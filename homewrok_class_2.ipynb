{
  "nbformat": 4,
  "nbformat_minor": 0,
  "metadata": {
    "colab": {
      "private_outputs": true,
      "provenance": [],
      "collapsed_sections": [],
      "authorship_tag": "ABX9TyNjSM4l5WN5dia5lxJbxSAk",
      "include_colab_link": true
    },
    "kernelspec": {
      "name": "python3",
      "display_name": "Python 3"
    },
    "language_info": {
      "name": "python"
    }
  },
  "cells": [
    {
      "cell_type": "markdown",
      "metadata": {
        "id": "view-in-github",
        "colab_type": "text"
      },
      "source": [
        "<a href=\"https://colab.research.google.com/github/BHARATH-D-095/Task-s-/blob/main/homewrok_class_2.ipynb\" target=\"_parent\"><img src=\"https://colab.research.google.com/assets/colab-badge.svg\" alt=\"Open In Colab\"/></a>"
      ]
    },
    {
      "cell_type": "code",
      "source": [
        "def total(*agrs):\n",
        "  add=0\n",
        "  for i in args:\n",
        "    add=add+i\n",
        "    print(add)\n",
        "a=[int(x) for x in input('enter 5 numbers').split()]\n",
        "x=0\n",
        "for i in a:\n",
        "  x=x+i\n",
        "  output = total(x)"
      ],
      "metadata": {
        "id": "OJiHRGjru_HY"
      },
      "execution_count": null,
      "outputs": []
    },
    {
      "cell_type": "code",
      "source": [],
      "metadata": {
        "id": "zjHONyxLinGG"
      },
      "execution_count": null,
      "outputs": []
    },
    {
      "cell_type": "code",
      "source": [
        "'12_23_24_35_32'.split('_',3)"
      ],
      "metadata": {
        "id": "lTn1_Q8zj1s2"
      },
      "execution_count": null,
      "outputs": []
    },
    {
      "cell_type": "code",
      "source": [
        "stu_details={'stu_id':[1,2,3,4,5], 'sname':['A','B','C','D','E'],'sregion':['U','V','X','Y','Z']}\n",
        "stu_details"
      ],
      "metadata": {
        "id": "weiV_utpj7tg"
      },
      "execution_count": null,
      "outputs": []
    },
    {
      "cell_type": "code",
      "source": [
        "stu_marks={'stu_id':[1,2,3,4,5], 'sname':['A','B','C','D','E'],'smarks':[22,21,20,26,18]}\n",
        "stu_marks"
      ],
      "metadata": {
        "id": "5agudzS4lKmK"
      },
      "execution_count": null,
      "outputs": []
    },
    {
      "cell_type": "code",
      "source": [
        "import pandas as pd\n",
        "df1=pd.DataFrame(stu_details)\n",
        "df2=pd.DataFrame(stu_marks)\n",
        "df1"
      ],
      "metadata": {
        "id": "-dGsFqWPll-N"
      },
      "execution_count": null,
      "outputs": []
    },
    {
      "cell_type": "code",
      "source": [
        "df2"
      ],
      "metadata": {
        "id": "6Dd3CL9Hl_oQ"
      },
      "execution_count": null,
      "outputs": []
    },
    {
      "cell_type": "code",
      "source": [
        "pd.merge(df1,df2, left_on=['stu_id','sname'],right_on=['stu_id','sname'])"
      ],
      "metadata": {
        "id": "tbtgf061mB85"
      },
      "execution_count": null,
      "outputs": []
    },
    {
      "cell_type": "code",
      "source": [],
      "metadata": {
        "id": "4NyHqPuz8L2t"
      },
      "execution_count": null,
      "outputs": []
    },
    {
      "cell_type": "code",
      "source": [
        "stu_grade={'stu_id':[1,2,3,4,5], 'sname':['A','B','C','D','E'],'sgrade':['A','A','A','O','B'],'sremark':[0,0,0,0,0]}\n",
        "stu_grade\n",
        "df3=pd.DataFrame(stu_grade)"
      ],
      "metadata": {
        "id": "5BUZE_g3mNR1"
      },
      "execution_count": null,
      "outputs": []
    },
    {
      "cell_type": "code",
      "source": [
        "pd.merge(pd.merge(df1,df2, left_on=['stu_id','sname'],right_on=['stu_id','sname']),df3)"
      ],
      "metadata": {
        "id": "m5WsZWC88JnH"
      },
      "execution_count": null,
      "outputs": []
    },
    {
      "cell_type": "code",
      "source": [
        "pd.merge(pd.merge(df2,df2),df3)"
      ],
      "metadata": {
        "id": "USdme5_i8eGi"
      },
      "execution_count": null,
      "outputs": []
    },
    {
      "cell_type": "code",
      "source": [],
      "metadata": {
        "id": "IzA9XWAa94Sf"
      },
      "execution_count": null,
      "outputs": []
    },
    {
      "cell_type": "code",
      "source": [
        "import os\n",
        "os.getcwd()"
      ],
      "metadata": {
        "id": "ALK6Gr4kCHJB"
      },
      "execution_count": null,
      "outputs": []
    },
    {
      "cell_type": "code",
      "source": [],
      "metadata": {
        "id": "HUKOk-78CKqc"
      },
      "execution_count": null,
      "outputs": []
    }
  ]
}