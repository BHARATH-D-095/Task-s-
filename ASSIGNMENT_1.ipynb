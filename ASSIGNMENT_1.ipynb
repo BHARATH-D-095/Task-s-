{
  "cells": [
    {
      "cell_type": "markdown",
      "metadata": {
        "id": "view-in-github",
        "colab_type": "text"
      },
      "source": [
        "<a href=\"https://colab.research.google.com/github/BHARATH-D-095/Task-s-/blob/main/ASSIGNMENT_1.ipynb\" target=\"_parent\"><img src=\"https://colab.research.google.com/assets/colab-badge.svg\" alt=\"Open In Colab\"/></a>"
      ]
    },
    {
      "cell_type": "markdown",
      "id": "fcdfb89e",
      "metadata": {
        "id": "fcdfb89e"
      },
      "source": [
        "                                       ######   ASSIGNMENT 1  ######\n",
        "## Program for multiplying two matrices"
      ]
    },
    {
      "cell_type": "raw",
      "id": "3800d074",
      "metadata": {
        "id": "3800d074"
      },
      "source": [
        "# Problem Statement1: Write a Python program to multiply a MxN matrix by NxA matrix and create a real matrix product."
      ]
    },
    {
      "cell_type": "code",
      "execution_count": null,
      "id": "a01f7bc0",
      "metadata": {
        "id": "a01f7bc0"
      },
      "outputs": [],
      "source": [
        "import numpy as np\n",
        "import pandas as pd"
      ]
    },
    {
      "cell_type": "code",
      "execution_count": null,
      "id": "50c1a9ee",
      "metadata": {
        "id": "50c1a9ee",
        "outputId": "3b956353-7202-4c1d-ca21-aa31e1e6c4bf"
      },
      "outputs": [
        {
          "data": {
            "text/plain": [
              "array([[ 1,  2,  3],\n",
              "       [ 8, 10, 12],\n",
              "       [21, 24, 27]])"
            ]
          },
          "execution_count": 2,
          "metadata": {},
          "output_type": "execute_result"
        }
      ],
      "source": [
        "## method 1: solving by using a given values of elements in two 3x3 matrices\n",
        "\n",
        "mat1=[[1,2,3],[4,5,6],[7,8,9]]\n",
        "mat2=[[1,1,1,],[2,2,2],[3,3,3]]\n",
        "m1=np.array(mat1)\n",
        "m2=np.array(mat2)\n",
        "result=[[0,0,0],[0,0,0],[0,0,0]]\n",
        "result=m1*m2              ### results a multiplicated value matrix with respective positioned elements product of mat1 and mat2\n",
        "r=np.array(result)\n",
        "r"
      ]
    },
    {
      "cell_type": "code",
      "execution_count": null,
      "id": "c8f3133a",
      "metadata": {
        "id": "c8f3133a",
        "outputId": "fb7423a8-78c0-4c72-b5e2-a9ba74ea0bab"
      },
      "outputs": [
        {
          "data": {
            "text/plain": [
              "array([[14, 14, 14],\n",
              "       [32, 32, 32],\n",
              "       [50, 50, 50]])"
            ]
          },
          "execution_count": 3,
          "metadata": {},
          "output_type": "execute_result"
        }
      ],
      "source": [
        "r1=np.dot(mat1,mat2)    ### results in product of mat1 and mat2 using 'dot' command\n",
        "r1"
      ]
    },
    {
      "cell_type": "code",
      "execution_count": null,
      "id": "38b7417e",
      "metadata": {
        "id": "38b7417e"
      },
      "outputs": [],
      "source": []
    },
    {
      "cell_type": "code",
      "execution_count": null,
      "id": "99d68d3e",
      "metadata": {
        "id": "99d68d3e",
        "outputId": "997850eb-252a-423e-b102-bb17a3301c15"
      },
      "outputs": [
        {
          "data": {
            "text/plain": [
              "array([[14, 14, 14],\n",
              "       [32, 32, 32],\n",
              "       [50, 50, 50]])"
            ]
          },
          "execution_count": 4,
          "metadata": {},
          "output_type": "execute_result"
        }
      ],
      "source": [
        "## method 2: solving using iterative statement for given vlaues of elemnets in two 3x3 matrices\n",
        "\n",
        "mat1=[[1,2,3],[4,5,6],[7,8,9]]\n",
        "mat2=[[1,1,1,],[2,2,2],[3,3,3]]\n",
        "res=[[0,0,0],\n",
        "     [0,0,0],\n",
        "     [0,0,0]]\n",
        "for i in range(len(mat1)):\n",
        "    for j in range(len(mat2)):\n",
        "        for k in range(len(mat2)):             ### both given matrices are 2-D and of same order in columns and rows\n",
        "            res[i][j]+=mat1[i][k]*mat2[k][j]        ### hence product of matrices can be done\n",
        "r=np.array(res)\n",
        "r"
      ]
    },
    {
      "cell_type": "code",
      "execution_count": null,
      "id": "59ee47c2",
      "metadata": {
        "id": "59ee47c2",
        "outputId": "e21bb038-cc62-44c8-a613-a0494aa40614"
      },
      "outputs": [
        {
          "name": "stdout",
          "output_type": "stream",
          "text": [
            "Program for multiplication of two matrices by accepting matrix elements at runtime\n",
            "\n",
            "PRESS *ENTER* AFTER EVERY ENTRY\n",
            "\n",
            "Enter no.of rows and coulmns of matrix m1:\n",
            "no.of rows r1:2\n",
            "no.of columns c1:2\n",
            "Matrix m1 is 2 x 2 ordered and can hold 4 elements\n",
            "\n",
            "Enter no.of rows and coulmns of matrix m2:\n",
            "no.of rows r2:2\n",
            "no.of columns c2:2\n",
            "Matrix m2 is 2 x 2 ordered and can hold 4 elements\n",
            "\n",
            "m1 and m2 matrix multiplication is possible\n",
            "\n",
            "Enter 4 elements of m1 matrix with spaces: \n",
            "1 2 3 4\n",
            "\n",
            "m1 matrix is:\n",
            " [[1 2]\n",
            " [3 4]]\n",
            "\n",
            "Enter 4 elements of m2 matrix with spaces: \n",
            "2 3 4 5\n",
            "\n",
            "m2 amtrix is:\n",
            " [[2 3]\n",
            " [4 5]]\n",
            "\n",
            "Product of m1 and m2 matrices is:\n",
            "[[10 13]\n",
            " [22 29]]\n",
            "Shape of resultant matrix is: (2, 2)\n"
          ]
        }
      ],
      "source": [
        "    \n",
        "    print('Program for multiplication of two matrices by accepting matrix elements at runtime\\n')\n",
        "    print('PRESS *ENTER* AFTER EVERY ENTRY\\n')\n",
        "    print('Enter no.of rows and coulmns of matrix m1:')\n",
        "    r1=int(input('no.of rows r1:'))\n",
        "    c1=int(input('no.of columns c1:'))\n",
        "    x1=r1*c1\n",
        "    print('Matrix m1 is',r1,'x',c1,'ordered and can hold',x1,'elements')\n",
        "    print('\\nEnter no.of rows and coulmns of matrix m2:')\n",
        "    r2=int(input('no.of rows r2:'))\n",
        "    c2=int(input('no.of columns c2:'))\n",
        "    x2=r2*c2\n",
        "    print('Matrix m2 is',r2,'x',c2,'ordered and can hold',x2,'elements')\n",
        "    \n",
        "    if c1==r2:\n",
        "        print('\\nm1 and m2 matrix multiplication is possible')\n",
        "        print('\\nEnter',x1,'elements of m1 matrix with spaces: ')\n",
        "        l1=input()\n",
        "        elements1=l1.split()\n",
        "        for i in range(len(elements1)):\n",
        "            elements1[i]=int(elements1[i])\n",
        "            m1=np.asarray(elements1)\n",
        "            shape=(r1,c1)\n",
        "            m1=m1.reshape(shape)\n",
        "        print('\\nm1 matrix is:\\n',m1)\n",
        "        print('\\nEnter',x2,'elements of m2 matrix with spaces: ')\n",
        "        l2=input()\n",
        "        elements2=l2.split()\n",
        "        for i in range(len(elements2)):\n",
        "            elements2[i]=int(elements2[i])\n",
        "            m2=np.asarray(elements2)\n",
        "            shape=(r2,c2)\n",
        "            m2=m2.reshape(shape)\n",
        "        print('\\nm2 amtrix is:\\n',m2)\n",
        "        print('\\nProduct of m1 and m2 matrices is:')\n",
        "        result=np.dot(m1,m2)\n",
        "        print(result)\n",
        "        print('Shape of resultant matrix is:',result.shape)\n",
        "    else:\n",
        "        print('\\nm1 and m2 matrix multiplication is not possible as c1 and r2 are not equal.')"
      ]
    },
    {
      "cell_type": "code",
      "execution_count": null,
      "id": "d11fb79b",
      "metadata": {
        "id": "d11fb79b"
      },
      "outputs": [],
      "source": []
    },
    {
      "cell_type": "code",
      "execution_count": null,
      "id": "df59d608",
      "metadata": {
        "id": "df59d608"
      },
      "outputs": [],
      "source": []
    },
    {
      "cell_type": "code",
      "execution_count": null,
      "id": "5839925f",
      "metadata": {
        "id": "5839925f"
      },
      "outputs": [],
      "source": []
    },
    {
      "cell_type": "code",
      "execution_count": null,
      "id": "9289621b",
      "metadata": {
        "id": "9289621b"
      },
      "outputs": [],
      "source": []
    },
    {
      "cell_type": "code",
      "execution_count": null,
      "id": "538c9f80",
      "metadata": {
        "id": "538c9f80"
      },
      "outputs": [],
      "source": []
    }
  ],
  "metadata": {
    "kernelspec": {
      "display_name": "Python 3 (ipykernel)",
      "language": "python",
      "name": "python3"
    },
    "language_info": {
      "codemirror_mode": {
        "name": "ipython",
        "version": 3
      },
      "file_extension": ".py",
      "mimetype": "text/x-python",
      "name": "python",
      "nbconvert_exporter": "python",
      "pygments_lexer": "ipython3",
      "version": "3.9.12"
    },
    "colab": {
      "provenance": [],
      "include_colab_link": true
    }
  },
  "nbformat": 4,
  "nbformat_minor": 5
}