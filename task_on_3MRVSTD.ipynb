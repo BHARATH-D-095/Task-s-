{
  "cells": [
    {
      "cell_type": "markdown",
      "metadata": {
        "id": "view-in-github",
        "colab_type": "text"
      },
      "source": [
        "<a href=\"https://colab.research.google.com/github/BHARATH-D-095/Task-s-/blob/main/task_on_3MRVSTD.ipynb\" target=\"_parent\"><img src=\"https://colab.research.google.com/assets/colab-badge.svg\" alt=\"Open In Colab\"/></a>"
      ]
    },
    {
      "cell_type": "code",
      "execution_count": null,
      "id": "9d34f35b",
      "metadata": {
        "id": "9d34f35b",
        "outputId": "14087a47-f23c-44bd-fb5d-d2a52c6b7501"
      },
      "outputs": [
        {
          "data": {
            "text/plain": [
              "'C:\\\\Users\\\\bhara\\\\onedrive\\\\desktop'"
            ]
          },
          "execution_count": 32,
          "metadata": {},
          "output_type": "execute_result"
        }
      ],
      "source": [
        "import pandas as pd\n",
        "import numpy as np\n",
        "import os\n",
        "os.getcwd()"
      ]
    },
    {
      "cell_type": "code",
      "execution_count": null,
      "id": "b3306f86",
      "metadata": {
        "id": "b3306f86"
      },
      "outputs": [],
      "source": [
        "os.chdir('C:\\\\Users\\\\bhara\\\\onedrive\\\\desktop')"
      ]
    },
    {
      "cell_type": "code",
      "execution_count": null,
      "id": "c4378c1c",
      "metadata": {
        "id": "c4378c1c"
      },
      "outputs": [],
      "source": [
        "df=pd.read_csv('supermarket.csv')"
      ]
    },
    {
      "cell_type": "code",
      "execution_count": null,
      "id": "4b895fce",
      "metadata": {
        "id": "4b895fce",
        "outputId": "fd40f260-53c7-4eb1-a8d6-e3ce0b5bc779"
      },
      "outputs": [
        {
          "data": {
            "text/html": [
              "<div>\n",
              "<style scoped>\n",
              "    .dataframe tbody tr th:only-of-type {\n",
              "        vertical-align: middle;\n",
              "    }\n",
              "\n",
              "    .dataframe tbody tr th {\n",
              "        vertical-align: top;\n",
              "    }\n",
              "\n",
              "    .dataframe thead th {\n",
              "        text-align: right;\n",
              "    }\n",
              "</style>\n",
              "<table border=\"1\" class=\"dataframe\">\n",
              "  <thead>\n",
              "    <tr style=\"text-align: right;\">\n",
              "      <th></th>\n",
              "      <th>ProductCode</th>\n",
              "      <th>Date</th>\n",
              "      <th>Amount</th>\n",
              "      <th>Received Cash</th>\n",
              "      <th>CashierName</th>\n",
              "    </tr>\n",
              "  </thead>\n",
              "  <tbody>\n",
              "    <tr>\n",
              "      <th>0</th>\n",
              "      <td>LBVT18010004435</td>\n",
              "      <td>01-05-2018 12:36</td>\n",
              "      <td>1121.20</td>\n",
              "      <td>1121.20</td>\n",
              "      <td>MAYTE</td>\n",
              "    </tr>\n",
              "    <tr>\n",
              "      <th>1</th>\n",
              "      <td>LBVT18010004436</td>\n",
              "      <td>01-05-2018 12:37</td>\n",
              "      <td>18.50</td>\n",
              "      <td>20.00</td>\n",
              "      <td>MAYTE</td>\n",
              "    </tr>\n",
              "    <tr>\n",
              "      <th>2</th>\n",
              "      <td>LBVT18010004437</td>\n",
              "      <td>01-05-2018 12:38</td>\n",
              "      <td>160.00</td>\n",
              "      <td>200.00</td>\n",
              "      <td>MAYTE</td>\n",
              "    </tr>\n",
              "    <tr>\n",
              "      <th>3</th>\n",
              "      <td>LBVT18010004438</td>\n",
              "      <td>01-05-2018 12:47</td>\n",
              "      <td>397.50</td>\n",
              "      <td>397.50</td>\n",
              "      <td>MAYTE</td>\n",
              "    </tr>\n",
              "    <tr>\n",
              "      <th>4</th>\n",
              "      <td>LBVT18010004439</td>\n",
              "      <td>01-05-2018 12:48</td>\n",
              "      <td>22.00</td>\n",
              "      <td>50.00</td>\n",
              "      <td>MAYTE</td>\n",
              "    </tr>\n",
              "    <tr>\n",
              "      <th>...</th>\n",
              "      <td>...</td>\n",
              "      <td>...</td>\n",
              "      <td>...</td>\n",
              "      <td>...</td>\n",
              "      <td>...</td>\n",
              "    </tr>\n",
              "    <tr>\n",
              "      <th>84876</th>\n",
              "      <td>LBVT18070002269</td>\n",
              "      <td>31-08-2018 17:03</td>\n",
              "      <td>16.32</td>\n",
              "      <td>16.32</td>\n",
              "      <td>JAQUELINE</td>\n",
              "    </tr>\n",
              "    <tr>\n",
              "      <th>84877</th>\n",
              "      <td>LBVT18070002270</td>\n",
              "      <td>31-08-2018 17:04</td>\n",
              "      <td>28.32</td>\n",
              "      <td>28.32</td>\n",
              "      <td>JAQUELINE</td>\n",
              "    </tr>\n",
              "    <tr>\n",
              "      <th>84878</th>\n",
              "      <td>LBVT18070002271</td>\n",
              "      <td>31-08-2018 17:06</td>\n",
              "      <td>21.36</td>\n",
              "      <td>50.00</td>\n",
              "      <td>JAQUELINE</td>\n",
              "    </tr>\n",
              "    <tr>\n",
              "      <th>84879</th>\n",
              "      <td>LBVT18070002272</td>\n",
              "      <td>31-08-2018 17:27</td>\n",
              "      <td>50.00</td>\n",
              "      <td>50.00</td>\n",
              "      <td>JAQUELINE</td>\n",
              "    </tr>\n",
              "    <tr>\n",
              "      <th>84880</th>\n",
              "      <td>LBVT18070002273</td>\n",
              "      <td>31-08-2018 17:36</td>\n",
              "      <td>30.14</td>\n",
              "      <td>50.00</td>\n",
              "      <td>JAQUELINE</td>\n",
              "    </tr>\n",
              "  </tbody>\n",
              "</table>\n",
              "<p>84881 rows × 5 columns</p>\n",
              "</div>"
            ],
            "text/plain": [
              "           ProductCode              Date   Amount  Received Cash CashierName\n",
              "0      LBVT18010004435  01-05-2018 12:36  1121.20        1121.20       MAYTE\n",
              "1      LBVT18010004436  01-05-2018 12:37    18.50          20.00       MAYTE\n",
              "2      LBVT18010004437  01-05-2018 12:38   160.00         200.00       MAYTE\n",
              "3      LBVT18010004438  01-05-2018 12:47   397.50         397.50       MAYTE\n",
              "4      LBVT18010004439  01-05-2018 12:48    22.00          50.00       MAYTE\n",
              "...                ...               ...      ...            ...         ...\n",
              "84876  LBVT18070002269  31-08-2018 17:03    16.32          16.32   JAQUELINE\n",
              "84877  LBVT18070002270  31-08-2018 17:04    28.32          28.32   JAQUELINE\n",
              "84878  LBVT18070002271  31-08-2018 17:06    21.36          50.00   JAQUELINE\n",
              "84879  LBVT18070002272  31-08-2018 17:27    50.00          50.00   JAQUELINE\n",
              "84880  LBVT18070002273  31-08-2018 17:36    30.14          50.00   JAQUELINE\n",
              "\n",
              "[84881 rows x 5 columns]"
            ]
          },
          "execution_count": 4,
          "metadata": {},
          "output_type": "execute_result"
        }
      ],
      "source": [
        "df"
      ]
    },
    {
      "cell_type": "code",
      "execution_count": null,
      "id": "0f414ce0",
      "metadata": {
        "id": "0f414ce0",
        "outputId": "aa832d46-a2aa-4258-b999-a2481f9cef95"
      },
      "outputs": [
        {
          "data": {
            "text/plain": [
              "(84881, 5)"
            ]
          },
          "execution_count": 5,
          "metadata": {},
          "output_type": "execute_result"
        }
      ],
      "source": [
        "df.shape"
      ]
    },
    {
      "cell_type": "code",
      "execution_count": null,
      "id": "383a5a86",
      "metadata": {
        "id": "383a5a86",
        "outputId": "c3d10a79-ca61-450f-fc0f-1fb28f42ec51"
      },
      "outputs": [
        {
          "data": {
            "text/plain": [
              "424405"
            ]
          },
          "execution_count": 8,
          "metadata": {},
          "output_type": "execute_result"
        }
      ],
      "source": [
        "df.size"
      ]
    },
    {
      "cell_type": "code",
      "execution_count": null,
      "id": "882274ea",
      "metadata": {
        "id": "882274ea",
        "outputId": "519261b2-1f4f-490a-ca6d-3a4279e796b7"
      },
      "outputs": [
        {
          "name": "stdout",
          "output_type": "stream",
          "text": [
            "<class 'pandas.core.frame.DataFrame'>\n",
            "RangeIndex: 84881 entries, 0 to 84880\n",
            "Data columns (total 5 columns):\n",
            " #   Column         Non-Null Count  Dtype  \n",
            "---  ------         --------------  -----  \n",
            " 0   ProductCode    84881 non-null  object \n",
            " 1   Date           84881 non-null  object \n",
            " 2   Amount         84881 non-null  float64\n",
            " 3   Received Cash  84881 non-null  float64\n",
            " 4   CashierName    84881 non-null  object \n",
            "dtypes: float64(2), object(3)\n",
            "memory usage: 3.2+ MB\n"
          ]
        }
      ],
      "source": [
        "df.info()"
      ]
    },
    {
      "cell_type": "code",
      "execution_count": null,
      "id": "279dc2bb",
      "metadata": {
        "id": "279dc2bb"
      },
      "outputs": [],
      "source": []
    },
    {
      "cell_type": "code",
      "execution_count": null,
      "id": "e0fd6cf7",
      "metadata": {
        "id": "e0fd6cf7",
        "outputId": "62965658-90ac-4e4b-9a1c-b16d64b7933a"
      },
      "outputs": [
        {
          "data": {
            "text/plain": [
              "0    1121.2\n",
              "1      18.5\n",
              "2     160.0\n",
              "Name: Amount, dtype: float64"
            ]
          },
          "execution_count": 7,
          "metadata": {},
          "output_type": "execute_result"
        }
      ],
      "source": [
        "df.Amount.head(3)"
      ]
    },
    {
      "cell_type": "code",
      "execution_count": null,
      "id": "82be6989",
      "metadata": {
        "id": "82be6989"
      },
      "outputs": [],
      "source": [
        "mean=df['Amount'].mean()\n",
        "median=df['Amount'].median()\n",
        "mode=df['Amount'].mode()\n",
        "range=df.Amount.max()-df.Amount.min()\n",
        "range\n",
        "varience=df['Amount'].var()\n",
        "standard_deviation=df.Amount.std()"
      ]
    },
    {
      "cell_type": "code",
      "execution_count": null,
      "id": "a6947d84",
      "metadata": {
        "id": "a6947d84"
      },
      "outputs": [],
      "source": [
        "maximum=df.Amount.max()"
      ]
    },
    {
      "cell_type": "code",
      "execution_count": null,
      "id": "26e1ecf9",
      "metadata": {
        "id": "26e1ecf9"
      },
      "outputs": [],
      "source": [
        "minimum=df.Amount.min()"
      ]
    },
    {
      "cell_type": "code",
      "execution_count": null,
      "id": "676278fa",
      "metadata": {
        "id": "676278fa",
        "outputId": "3663a025-8bc3-426f-8037-173b4d59d535"
      },
      "outputs": [
        {
          "name": "stdout",
          "output_type": "stream",
          "text": [
            "mean: 189.78110872868814\n",
            "median: 95.0\n",
            "mode: 0    50.0\n",
            "Name: Amount, dtype: float64\n",
            "range: 15036.8\n",
            "varience: 80674.52936872175\n",
            "standard_deviation: 284.0326202546492\n"
          ]
        }
      ],
      "source": [
        "             ########### for column 'amount'\n",
        "print('mean:',mean)\n",
        "print('median:',median)\n",
        "print('mode:',mode)\n",
        "print('range:',range)\n",
        "print('varience:',varience)\n",
        "print('standard_deviation:',standard_deviation)"
      ]
    },
    {
      "cell_type": "code",
      "execution_count": null,
      "id": "94c10267",
      "metadata": {
        "id": "94c10267",
        "outputId": "f7d8db85-222c-4eab-fe0f-e40f468e75f9"
      },
      "outputs": [
        {
          "data": {
            "text/html": [
              "<div>\n",
              "<style scoped>\n",
              "    .dataframe tbody tr th:only-of-type {\n",
              "        vertical-align: middle;\n",
              "    }\n",
              "\n",
              "    .dataframe tbody tr th {\n",
              "        vertical-align: top;\n",
              "    }\n",
              "\n",
              "    .dataframe thead th {\n",
              "        text-align: right;\n",
              "    }\n",
              "</style>\n",
              "<table border=\"1\" class=\"dataframe\">\n",
              "  <thead>\n",
              "    <tr style=\"text-align: right;\">\n",
              "      <th></th>\n",
              "      <th>ProductCode</th>\n",
              "      <th>Date</th>\n",
              "      <th>Amount</th>\n",
              "      <th>Received Cash</th>\n",
              "      <th>CashierName</th>\n",
              "    </tr>\n",
              "  </thead>\n",
              "  <tbody>\n",
              "    <tr>\n",
              "      <th>0</th>\n",
              "      <td>LBVT18010004435</td>\n",
              "      <td>01-05-2018 12:36</td>\n",
              "      <td>1121.20</td>\n",
              "      <td>1121.20</td>\n",
              "      <td>MAYTE</td>\n",
              "    </tr>\n",
              "    <tr>\n",
              "      <th>1</th>\n",
              "      <td>LBVT18010004436</td>\n",
              "      <td>01-05-2018 12:37</td>\n",
              "      <td>18.50</td>\n",
              "      <td>20.00</td>\n",
              "      <td>MAYTE</td>\n",
              "    </tr>\n",
              "    <tr>\n",
              "      <th>2</th>\n",
              "      <td>LBVT18010004437</td>\n",
              "      <td>01-05-2018 12:38</td>\n",
              "      <td>160.00</td>\n",
              "      <td>200.00</td>\n",
              "      <td>MAYTE</td>\n",
              "    </tr>\n",
              "    <tr>\n",
              "      <th>3</th>\n",
              "      <td>LBVT18010004438</td>\n",
              "      <td>01-05-2018 12:47</td>\n",
              "      <td>397.50</td>\n",
              "      <td>397.50</td>\n",
              "      <td>MAYTE</td>\n",
              "    </tr>\n",
              "    <tr>\n",
              "      <th>4</th>\n",
              "      <td>LBVT18010004439</td>\n",
              "      <td>01-05-2018 12:48</td>\n",
              "      <td>22.00</td>\n",
              "      <td>50.00</td>\n",
              "      <td>MAYTE</td>\n",
              "    </tr>\n",
              "    <tr>\n",
              "      <th>...</th>\n",
              "      <td>...</td>\n",
              "      <td>...</td>\n",
              "      <td>...</td>\n",
              "      <td>...</td>\n",
              "      <td>...</td>\n",
              "    </tr>\n",
              "    <tr>\n",
              "      <th>84876</th>\n",
              "      <td>LBVT18070002269</td>\n",
              "      <td>31-08-2018 17:03</td>\n",
              "      <td>16.32</td>\n",
              "      <td>16.32</td>\n",
              "      <td>JAQUELINE</td>\n",
              "    </tr>\n",
              "    <tr>\n",
              "      <th>84877</th>\n",
              "      <td>LBVT18070002270</td>\n",
              "      <td>31-08-2018 17:04</td>\n",
              "      <td>28.32</td>\n",
              "      <td>28.32</td>\n",
              "      <td>JAQUELINE</td>\n",
              "    </tr>\n",
              "    <tr>\n",
              "      <th>84878</th>\n",
              "      <td>LBVT18070002271</td>\n",
              "      <td>31-08-2018 17:06</td>\n",
              "      <td>21.36</td>\n",
              "      <td>50.00</td>\n",
              "      <td>JAQUELINE</td>\n",
              "    </tr>\n",
              "    <tr>\n",
              "      <th>84879</th>\n",
              "      <td>LBVT18070002272</td>\n",
              "      <td>31-08-2018 17:27</td>\n",
              "      <td>50.00</td>\n",
              "      <td>50.00</td>\n",
              "      <td>JAQUELINE</td>\n",
              "    </tr>\n",
              "    <tr>\n",
              "      <th>84880</th>\n",
              "      <td>LBVT18070002273</td>\n",
              "      <td>31-08-2018 17:36</td>\n",
              "      <td>30.14</td>\n",
              "      <td>50.00</td>\n",
              "      <td>JAQUELINE</td>\n",
              "    </tr>\n",
              "  </tbody>\n",
              "</table>\n",
              "<p>84881 rows × 5 columns</p>\n",
              "</div>"
            ],
            "text/plain": [
              "           ProductCode              Date   Amount  Received Cash CashierName\n",
              "0      LBVT18010004435  01-05-2018 12:36  1121.20        1121.20       MAYTE\n",
              "1      LBVT18010004436  01-05-2018 12:37    18.50          20.00       MAYTE\n",
              "2      LBVT18010004437  01-05-2018 12:38   160.00         200.00       MAYTE\n",
              "3      LBVT18010004438  01-05-2018 12:47   397.50         397.50       MAYTE\n",
              "4      LBVT18010004439  01-05-2018 12:48    22.00          50.00       MAYTE\n",
              "...                ...               ...      ...            ...         ...\n",
              "84876  LBVT18070002269  31-08-2018 17:03    16.32          16.32   JAQUELINE\n",
              "84877  LBVT18070002270  31-08-2018 17:04    28.32          28.32   JAQUELINE\n",
              "84878  LBVT18070002271  31-08-2018 17:06    21.36          50.00   JAQUELINE\n",
              "84879  LBVT18070002272  31-08-2018 17:27    50.00          50.00   JAQUELINE\n",
              "84880  LBVT18070002273  31-08-2018 17:36    30.14          50.00   JAQUELINE\n",
              "\n",
              "[84881 rows x 5 columns]"
            ]
          },
          "execution_count": 50,
          "metadata": {},
          "output_type": "execute_result"
        }
      ],
      "source": [
        "df"
      ]
    },
    {
      "cell_type": "raw",
      "id": "8f0ef300",
      "metadata": {
        "id": "8f0ef300"
      },
      "source": [
        " "
      ]
    },
    {
      "cell_type": "code",
      "execution_count": null,
      "id": "01417054",
      "metadata": {
        "id": "01417054"
      },
      "outputs": [],
      "source": []
    },
    {
      "cell_type": "code",
      "execution_count": null,
      "id": "13907349",
      "metadata": {
        "id": "13907349"
      },
      "outputs": [],
      "source": [
        "mean1=df['Received_Cash'].mean()\n",
        "median1=df['Received_Cash'].median()\n",
        "mode1=df['Received_Cash'].mode()\n",
        "range1=df.Received_Cash.max()-df.Received_Cash.min()\n",
        "range1\n",
        "df.Received_Cash.max()\n",
        "df.Received_Cash.min()\n",
        "varience1=df.Received_Cash.var()\n",
        "standard_deviation1=df.Received_Cash.std()"
      ]
    },
    {
      "cell_type": "code",
      "execution_count": null,
      "id": "16c3c9df",
      "metadata": {
        "id": "16c3c9df",
        "outputId": "3f402720-42b9-459e-fbec-b6fe29e4d2e0"
      },
      "outputs": [
        {
          "name": "stdout",
          "output_type": "stream",
          "text": [
            "mean: 185273189.80236167\n",
            "median: 155.0\n",
            "mode: 0    200.0\n",
            "Name: Received_Cash, dtype: float64\n",
            "range: 7500000000000.0\n",
            "varience: 1.3314909444556508e+21\n",
            "standard_deviation: 36489600497.3424\n"
          ]
        }
      ],
      "source": [
        "                      ########### for column 'Received_cash'\n",
        "print('mean:',mean1)\n",
        "print('median:',median1)\n",
        "print('mode:',mode1)\n",
        "print('range:',range1)\n",
        "print('varience:',varience1)\n",
        "print('standard_deviation:',standard_deviation1)"
      ]
    },
    {
      "cell_type": "code",
      "execution_count": null,
      "id": "b4c3e287",
      "metadata": {
        "id": "b4c3e287",
        "outputId": "bb9d8502-deda-4121-b665-9ffe8b33b207"
      },
      "outputs": [
        {
          "data": {
            "text/html": [
              "<div>\n",
              "<style scoped>\n",
              "    .dataframe tbody tr th:only-of-type {\n",
              "        vertical-align: middle;\n",
              "    }\n",
              "\n",
              "    .dataframe tbody tr th {\n",
              "        vertical-align: top;\n",
              "    }\n",
              "\n",
              "    .dataframe thead th {\n",
              "        text-align: right;\n",
              "    }\n",
              "</style>\n",
              "<table border=\"1\" class=\"dataframe\">\n",
              "  <thead>\n",
              "    <tr style=\"text-align: right;\">\n",
              "      <th></th>\n",
              "      <th>ProductCode</th>\n",
              "      <th>Date</th>\n",
              "      <th>Amount</th>\n",
              "      <th>Received_Cash</th>\n",
              "      <th>CashierName</th>\n",
              "    </tr>\n",
              "  </thead>\n",
              "  <tbody>\n",
              "    <tr>\n",
              "      <th>0</th>\n",
              "      <td>LBVT18010004435</td>\n",
              "      <td>01-05-2018 12:36</td>\n",
              "      <td>1121.20</td>\n",
              "      <td>1121.20</td>\n",
              "      <td>MAYTE</td>\n",
              "    </tr>\n",
              "    <tr>\n",
              "      <th>1</th>\n",
              "      <td>LBVT18010004436</td>\n",
              "      <td>01-05-2018 12:37</td>\n",
              "      <td>18.50</td>\n",
              "      <td>20.00</td>\n",
              "      <td>MAYTE</td>\n",
              "    </tr>\n",
              "    <tr>\n",
              "      <th>2</th>\n",
              "      <td>LBVT18010004437</td>\n",
              "      <td>01-05-2018 12:38</td>\n",
              "      <td>160.00</td>\n",
              "      <td>200.00</td>\n",
              "      <td>MAYTE</td>\n",
              "    </tr>\n",
              "    <tr>\n",
              "      <th>3</th>\n",
              "      <td>LBVT18010004438</td>\n",
              "      <td>01-05-2018 12:47</td>\n",
              "      <td>397.50</td>\n",
              "      <td>397.50</td>\n",
              "      <td>MAYTE</td>\n",
              "    </tr>\n",
              "    <tr>\n",
              "      <th>4</th>\n",
              "      <td>LBVT18010004439</td>\n",
              "      <td>01-05-2018 12:48</td>\n",
              "      <td>22.00</td>\n",
              "      <td>50.00</td>\n",
              "      <td>MAYTE</td>\n",
              "    </tr>\n",
              "    <tr>\n",
              "      <th>...</th>\n",
              "      <td>...</td>\n",
              "      <td>...</td>\n",
              "      <td>...</td>\n",
              "      <td>...</td>\n",
              "      <td>...</td>\n",
              "    </tr>\n",
              "    <tr>\n",
              "      <th>84876</th>\n",
              "      <td>LBVT18070002269</td>\n",
              "      <td>31-08-2018 17:03</td>\n",
              "      <td>16.32</td>\n",
              "      <td>16.32</td>\n",
              "      <td>JAQUELINE</td>\n",
              "    </tr>\n",
              "    <tr>\n",
              "      <th>84877</th>\n",
              "      <td>LBVT18070002270</td>\n",
              "      <td>31-08-2018 17:04</td>\n",
              "      <td>28.32</td>\n",
              "      <td>28.32</td>\n",
              "      <td>JAQUELINE</td>\n",
              "    </tr>\n",
              "    <tr>\n",
              "      <th>84878</th>\n",
              "      <td>LBVT18070002271</td>\n",
              "      <td>31-08-2018 17:06</td>\n",
              "      <td>21.36</td>\n",
              "      <td>50.00</td>\n",
              "      <td>JAQUELINE</td>\n",
              "    </tr>\n",
              "    <tr>\n",
              "      <th>84879</th>\n",
              "      <td>LBVT18070002272</td>\n",
              "      <td>31-08-2018 17:27</td>\n",
              "      <td>50.00</td>\n",
              "      <td>50.00</td>\n",
              "      <td>JAQUELINE</td>\n",
              "    </tr>\n",
              "    <tr>\n",
              "      <th>84880</th>\n",
              "      <td>LBVT18070002273</td>\n",
              "      <td>31-08-2018 17:36</td>\n",
              "      <td>30.14</td>\n",
              "      <td>50.00</td>\n",
              "      <td>JAQUELINE</td>\n",
              "    </tr>\n",
              "  </tbody>\n",
              "</table>\n",
              "<p>84881 rows × 5 columns</p>\n",
              "</div>"
            ],
            "text/plain": [
              "           ProductCode              Date   Amount  Received_Cash CashierName\n",
              "0      LBVT18010004435  01-05-2018 12:36  1121.20        1121.20       MAYTE\n",
              "1      LBVT18010004436  01-05-2018 12:37    18.50          20.00       MAYTE\n",
              "2      LBVT18010004437  01-05-2018 12:38   160.00         200.00       MAYTE\n",
              "3      LBVT18010004438  01-05-2018 12:47   397.50         397.50       MAYTE\n",
              "4      LBVT18010004439  01-05-2018 12:48    22.00          50.00       MAYTE\n",
              "...                ...               ...      ...            ...         ...\n",
              "84876  LBVT18070002269  31-08-2018 17:03    16.32          16.32   JAQUELINE\n",
              "84877  LBVT18070002270  31-08-2018 17:04    28.32          28.32   JAQUELINE\n",
              "84878  LBVT18070002271  31-08-2018 17:06    21.36          50.00   JAQUELINE\n",
              "84879  LBVT18070002272  31-08-2018 17:27    50.00          50.00   JAQUELINE\n",
              "84880  LBVT18070002273  31-08-2018 17:36    30.14          50.00   JAQUELINE\n",
              "\n",
              "[84881 rows x 5 columns]"
            ]
          },
          "execution_count": 19,
          "metadata": {},
          "output_type": "execute_result"
        }
      ],
      "source": [
        "df=df.rename(columns={'Received Cash':'Received_Cash'})\n",
        "df"
      ]
    },
    {
      "cell_type": "code",
      "execution_count": null,
      "id": "5bc8dd39",
      "metadata": {
        "id": "5bc8dd39",
        "outputId": "46e4ac0e-6994-4abf-9d20-2594362e73b0"
      },
      "outputs": [
        {
          "data": {
            "text/plain": [
              "array(['MAYTE', 'GABY LUCIO', 'ALE HUERTA', 'FERNANDO C', 'MARICRUZ',\n",
              "       'EDUARDO V', 'MONSE L.', 'SARAHY', 'JANET', 'JUAN MARTIN',\n",
              "       'CLAUDIA', 'LINA', 'ALE DIAZ', 'MAGO', 'ELI C.', 'JAQUELINE',\n",
              "       'JESUS PEREZ', 'ROSI MEJIA', 'MIRIAM LANDIN', 'MIRIAM', 'EDUARDO'],\n",
              "      dtype=object)"
            ]
          },
          "execution_count": 20,
          "metadata": {},
          "output_type": "execute_result"
        }
      ],
      "source": [
        "df.CashierName.unique() ### 21 casheiers are there"
      ]
    },
    {
      "cell_type": "code",
      "execution_count": null,
      "id": "de127808",
      "metadata": {
        "id": "de127808",
        "outputId": "c15a88f0-10b8-4f00-e927-c657f950cd93"
      },
      "outputs": [
        {
          "data": {
            "text/html": [
              "<div>\n",
              "<style scoped>\n",
              "    .dataframe tbody tr th:only-of-type {\n",
              "        vertical-align: middle;\n",
              "    }\n",
              "\n",
              "    .dataframe tbody tr th {\n",
              "        vertical-align: top;\n",
              "    }\n",
              "\n",
              "    .dataframe thead th {\n",
              "        text-align: right;\n",
              "    }\n",
              "</style>\n",
              "<table border=\"1\" class=\"dataframe\">\n",
              "  <thead>\n",
              "    <tr style=\"text-align: right;\">\n",
              "      <th></th>\n",
              "      <th>ProductCode</th>\n",
              "      <th>Date</th>\n",
              "      <th>Amount</th>\n",
              "      <th>Received_Cash</th>\n",
              "      <th>CashierName</th>\n",
              "    </tr>\n",
              "  </thead>\n",
              "  <tbody>\n",
              "    <tr>\n",
              "      <th>0</th>\n",
              "      <td>LBVT18010004435</td>\n",
              "      <td>01-05-2018 12:36</td>\n",
              "      <td>1121.20</td>\n",
              "      <td>1121.20</td>\n",
              "      <td>MAYTE</td>\n",
              "    </tr>\n",
              "    <tr>\n",
              "      <th>1</th>\n",
              "      <td>LBVT18010004436</td>\n",
              "      <td>01-05-2018 12:37</td>\n",
              "      <td>18.50</td>\n",
              "      <td>20.00</td>\n",
              "      <td>MAYTE</td>\n",
              "    </tr>\n",
              "    <tr>\n",
              "      <th>2</th>\n",
              "      <td>LBVT18010004437</td>\n",
              "      <td>01-05-2018 12:38</td>\n",
              "      <td>160.00</td>\n",
              "      <td>200.00</td>\n",
              "      <td>MAYTE</td>\n",
              "    </tr>\n",
              "    <tr>\n",
              "      <th>3</th>\n",
              "      <td>LBVT18010004438</td>\n",
              "      <td>01-05-2018 12:47</td>\n",
              "      <td>397.50</td>\n",
              "      <td>397.50</td>\n",
              "      <td>MAYTE</td>\n",
              "    </tr>\n",
              "    <tr>\n",
              "      <th>4</th>\n",
              "      <td>LBVT18010004439</td>\n",
              "      <td>01-05-2018 12:48</td>\n",
              "      <td>22.00</td>\n",
              "      <td>50.00</td>\n",
              "      <td>MAYTE</td>\n",
              "    </tr>\n",
              "    <tr>\n",
              "      <th>...</th>\n",
              "      <td>...</td>\n",
              "      <td>...</td>\n",
              "      <td>...</td>\n",
              "      <td>...</td>\n",
              "      <td>...</td>\n",
              "    </tr>\n",
              "    <tr>\n",
              "      <th>54832</th>\n",
              "      <td>LBVT18010013439</td>\n",
              "      <td>22-07-2018 15:39</td>\n",
              "      <td>49.90</td>\n",
              "      <td>50.00</td>\n",
              "      <td>MAYTE</td>\n",
              "    </tr>\n",
              "    <tr>\n",
              "      <th>54833</th>\n",
              "      <td>LBVT18010013440</td>\n",
              "      <td>22-07-2018 15:44</td>\n",
              "      <td>756.99</td>\n",
              "      <td>756.99</td>\n",
              "      <td>MAYTE</td>\n",
              "    </tr>\n",
              "    <tr>\n",
              "      <th>54834</th>\n",
              "      <td>LBVT18010013441</td>\n",
              "      <td>22-07-2018 15:45</td>\n",
              "      <td>261.60</td>\n",
              "      <td>261.60</td>\n",
              "      <td>MAYTE</td>\n",
              "    </tr>\n",
              "    <tr>\n",
              "      <th>54835</th>\n",
              "      <td>LBVT18010013442</td>\n",
              "      <td>22-07-2018 15:46</td>\n",
              "      <td>17.30</td>\n",
              "      <td>20.00</td>\n",
              "      <td>MAYTE</td>\n",
              "    </tr>\n",
              "    <tr>\n",
              "      <th>54836</th>\n",
              "      <td>LBVT18010013443</td>\n",
              "      <td>22-07-2018 15:46</td>\n",
              "      <td>20.00</td>\n",
              "      <td>100.00</td>\n",
              "      <td>MAYTE</td>\n",
              "    </tr>\n",
              "  </tbody>\n",
              "</table>\n",
              "<p>5565 rows × 5 columns</p>\n",
              "</div>"
            ],
            "text/plain": [
              "           ProductCode              Date   Amount  Received_Cash CashierName\n",
              "0      LBVT18010004435  01-05-2018 12:36  1121.20        1121.20       MAYTE\n",
              "1      LBVT18010004436  01-05-2018 12:37    18.50          20.00       MAYTE\n",
              "2      LBVT18010004437  01-05-2018 12:38   160.00         200.00       MAYTE\n",
              "3      LBVT18010004438  01-05-2018 12:47   397.50         397.50       MAYTE\n",
              "4      LBVT18010004439  01-05-2018 12:48    22.00          50.00       MAYTE\n",
              "...                ...               ...      ...            ...         ...\n",
              "54832  LBVT18010013439  22-07-2018 15:39    49.90          50.00       MAYTE\n",
              "54833  LBVT18010013440  22-07-2018 15:44   756.99         756.99       MAYTE\n",
              "54834  LBVT18010013441  22-07-2018 15:45   261.60         261.60       MAYTE\n",
              "54835  LBVT18010013442  22-07-2018 15:46    17.30          20.00       MAYTE\n",
              "54836  LBVT18010013443  22-07-2018 15:46    20.00         100.00       MAYTE\n",
              "\n",
              "[5565 rows x 5 columns]"
            ]
          },
          "execution_count": 23,
          "metadata": {},
          "output_type": "execute_result"
        }
      ],
      "source": [
        "df1=df[df['CashierName']=='MAYTE']     ### calculating for only one cashier 'MAYTE'\n",
        "df1"
      ]
    },
    {
      "cell_type": "code",
      "execution_count": null,
      "id": "d3910e89",
      "metadata": {
        "id": "d3910e89"
      },
      "outputs": [],
      "source": [
        "mean=df1['Amount'].mean()\n",
        "median=df1['Amount'].median()\n",
        "mode=df1['Amount'].mode()\n",
        "range=df1.Amount.max()-df.Amount.min()\n",
        "range\n",
        "varience=df1['Amount'].var()\n",
        "standard_deviation=df1.Amount.std()"
      ]
    },
    {
      "cell_type": "code",
      "execution_count": null,
      "id": "237f9359",
      "metadata": {
        "id": "237f9359",
        "outputId": "d0fb0c13-7f33-4eb6-88ac-8bd77d54d69c"
      },
      "outputs": [
        {
          "name": "stdout",
          "output_type": "stream",
          "text": [
            "Cashier Name: ['MAYTE']\n",
            "mean: 202.46861096136556\n",
            "median: 106.0\n",
            "mode: 0    100.0\n",
            "Name: Amount, dtype: float64\n",
            "range: 7235.629999999999\n",
            "varience: 78579.89730754131\n",
            "standard_deviation: 280.3210611201757\n"
          ]
        }
      ],
      "source": [
        "print('Cashier Name:',df1.CashierName.unique())\n",
        "print('mean:',mean)\n",
        "print('median:',median)\n",
        "print('mode:',mode)\n",
        "print('range:',range)\n",
        "print('varience:',varience)\n",
        "print('standard_deviation:',standard_deviation)"
      ]
    },
    {
      "cell_type": "code",
      "execution_count": null,
      "id": "141b9a75",
      "metadata": {
        "id": "141b9a75",
        "outputId": "b75f2687-d1e6-43c4-e0b8-28365808254b"
      },
      "outputs": [
        {
          "data": {
            "text/plain": [
              "5565"
            ]
          },
          "execution_count": 38,
          "metadata": {},
          "output_type": "execute_result"
        }
      ],
      "source": [
        "len(df1)"
      ]
    },
    {
      "cell_type": "code",
      "execution_count": null,
      "id": "4868d3e0",
      "metadata": {
        "id": "4868d3e0",
        "outputId": "defb8550-cdf7-4616-b8ba-d8221e354e5d"
      },
      "outputs": [
        {
          "name": "stdout",
          "output_type": "stream",
          "text": [
            "Cashier Name: ['MAYTE']\n"
          ]
        }
      ],
      "source": [
        "print('Cashier Name:',df1.CashierName.unique())"
      ]
    },
    {
      "cell_type": "code",
      "execution_count": null,
      "id": "b5af48bb",
      "metadata": {
        "id": "b5af48bb"
      },
      "outputs": [],
      "source": []
    }
  ],
  "metadata": {
    "kernelspec": {
      "display_name": "Python 3 (ipykernel)",
      "language": "python",
      "name": "python3"
    },
    "language_info": {
      "codemirror_mode": {
        "name": "ipython",
        "version": 3
      },
      "file_extension": ".py",
      "mimetype": "text/x-python",
      "name": "python",
      "nbconvert_exporter": "python",
      "pygments_lexer": "ipython3",
      "version": "3.9.12"
    },
    "colab": {
      "provenance": [],
      "include_colab_link": true
    }
  },
  "nbformat": 4,
  "nbformat_minor": 5
}